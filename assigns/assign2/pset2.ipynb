{
 "cells": [
  {
   "cell_type": "markdown",
   "metadata": {},
   "source": [
    "# Problem Set 2: Differential Expression of Cancer Microarray Data\n",
    "\n",
    "Due: Wednesday, October 23rd, 2019, at 3:00 pm\n",
    "\n",
    "In this problem set, we’ll be exploring the basics of gene expression analysis using publicly available microarray data. There are three parts to this analysis:\n",
    "\n",
    "1) Load and normalize gene expression data\n",
    "\n",
    "2) Test genes for differential expression between cancer and normal conditions\n",
    "\n",
    "3) Perform gene set enrichment analysis on differentially expressed genes"
   ]
  },
  {
   "cell_type": "markdown",
   "metadata": {},
   "source": [
    "## Part 1: Data Download and Preprocessing\n",
    "\n",
    "One of the least interesting (but most important!) parts of any bioinformatics analysis is finding, loading, and preprocessing the data to get it into a usable format. Luckily, we’ve helped you out with this and left just a few steps for you to complete.\n",
    "\n",
    "### 1.1\n",
    "\n",
    "First, we need to download the data. Our dataset of interest is a publicly available dataset stored in the Gene Expression Omnibus, with accession number GDS4718. Navigate to the [Gene Expression Omnibus](http://www.ncbi.nlm.nih.gov/geo/) in your browser. This website is an excellent resource for obtaining data sets on RNA expression. Navigate to the DataSet with record GDS4718. Download the full SOFT file using the link on the right-hand side of the page.\n",
    "\n",
    "*Aside: If you are using R, the R package GEOquery is useful for downloading data directly into your R session. However, for this DataSet, we ask that you download the SOFT file directly from the site.*\n",
    "\n",
    "**What data are we working with here? Based on the description of the data, what is one interesting differential expression analysis that we might perform on these samples? (There are several possible answers.)**\n"
   ]
  },
  {
   "cell_type": "markdown",
   "metadata": {},
   "source": [
    "YOUR WRITTEN ANSWER TO 1.1 HERE"
   ]
  },
  {
   "cell_type": "markdown",
   "metadata": {},
   "source": [
    "### 1.2\n",
    "\n",
    "**When using public data, it’s important to know what transformations have already been applied to the raw data.\n",
    "Click on the “Reference Series” link in the DataSet record. What type of normalizations and transformations have already been performed on these count data? Why do you think it is necessary to perform these transformations?**"
   ]
  },
  {
   "cell_type": "markdown",
   "metadata": {},
   "source": [
    "YOUR WRITTEN ANSWER TO 1.2 HERE"
   ]
  },
  {
   "cell_type": "markdown",
   "metadata": {},
   "source": [
    "### 1.3a \n",
    "\n",
    "Now open the SOFT file that you downloaded in a text editor and inspect it. As you can see, this file is unfortunately not in a format that is easily loadable into R or Python. The top of the file is a *header* containing metadata about all samples. After the header, there is a list of gene expression values. The messiness of this file is one reason that it is often best to use R’s GEOquery package to do most of the work for you.\n",
    "\n",
    "**Name one thing about this file format that makes it a pain to parse using simple Python/R functions (there are many).**"
   ]
  },
  {
   "cell_type": "markdown",
   "metadata": {},
   "source": [
    "YOUR WRITTEN ANSWER TO 1.3a HERE"
   ]
  },
  {
   "cell_type": "markdown",
   "metadata": {},
   "source": [
    "### 1.3b\n",
    "\n",
    "**To save time and confusion in preprocessing, we have written the expression data into a more readable format. Now that you have seen how to download GEO data for yourself, open the file “GDS4718.tsv”, which we included in the assignment description. For the remainder of the assignment, you can use this gene expression file instead of the downloaded SOFT file.**\n",
    "\n",
    "**Now load this file into R or Python. You can use whatever method you prefer to do this; if you are using Python, you may want to explore the `pandas` library, which facilitates loading and analyzing data in tabular formats.**"
   ]
  },
  {
   "cell_type": "code",
   "execution_count": 2,
   "metadata": {},
   "outputs": [],
   "source": [
    "#YOUR CODE FOR 1.3b HERE"
   ]
  },
  {
   "cell_type": "markdown",
   "metadata": {},
   "source": [
    "### 1.3c\n",
    "\n",
    "**What do the rows and columns of this table represent? How many patients have samples in this dataset? How many probes were measured? Is this the same as the number of genes measured?**"
   ]
  },
  {
   "cell_type": "markdown",
   "metadata": {},
   "source": [
    "YOUR WRITTEN ANSWER TO 1.3c HERE"
   ]
  },
  {
   "cell_type": "markdown",
   "metadata": {},
   "source": [
    "### 1.4a\n",
    "\n",
    "**Make a histogram showing the distribution of the gene expression values in your matrix. This histogram should pool all values across all probes and samples.**"
   ]
  },
  {
   "cell_type": "code",
   "execution_count": null,
   "metadata": {},
   "outputs": [],
   "source": [
    "#YOUR CODE FOR 1.4a HERE"
   ]
  },
  {
   "cell_type": "markdown",
   "metadata": {},
   "source": [
    "### 1.4b\n",
    "\n",
    "**Do the data follow a roughly normal distribution? If not, name one possible reason for this.**"
   ]
  },
  {
   "cell_type": "markdown",
   "metadata": {},
   "source": [
    "YOUR WRITTEN ANSWER TO 1.4b HERE"
   ]
  },
  {
   "cell_type": "markdown",
   "metadata": {},
   "source": [
    "### 1.4c\n",
    "\n",
    "**What is the range of expression values? Does this make sense considering your answer to question 1.2?**"
   ]
  },
  {
   "cell_type": "markdown",
   "metadata": {},
   "source": [
    "YOUR WRITTEN ANSWER TO 1.4c HERE"
   ]
  },
  {
   "cell_type": "markdown",
   "metadata": {},
   "source": [
    "### 1.5\n",
    "**Sometimes researchers will apply z-score normalization to the data, which scales and centers each gene’s expression so that it follows a normal distribution across patients. Name one benefit to using this normalization method, and one potential drawback (for our analysis, we will NOT use z-score normalization).**"
   ]
  },
  {
   "cell_type": "markdown",
   "metadata": {},
   "source": [
    "YOUR WRITTEN ANSWER TO 1.5 HERE"
   ]
  },
  {
   "cell_type": "markdown",
   "metadata": {},
   "source": [
    "### 1.6\n",
    "\n",
    "Load the file “GDS4718_cancer_status.tsv” that we supplied in the assignment description. This file indicates, for each sample, whether that sample was taken from a cancer patient or from a normal healthy patient.\n",
    "A common way to visualize differences between groups of samples is to plot them in a heatmap. There are many (perhaps too many) heatmap packages available in both Python and R; however, to simplify this assignment, we’ve already generated a heatmap of the data. You can view this heatmap on the Canvas assignment description; it is named “heatmap.pdf”.\n",
    "\n",
    "The rows in the heatmap correspond to approximately 3000 of the most highly expressed probes in our cohort. Each column corresponds to an individual sample. The samples from the left of the plot up until GSM549112 are from healthy individuals, and the rest of the samples are individuals with cancer.\n",
    "\n",
    "**Looking at the heatmap, is there a visible difference between the cancer samples and the healthy samples? Do you notice anything unusual? What might be an explanation for this? *Aside: If you’re curious how to generate your own heatmap, a good starting point is the heatmap.2 function in R’s gplots package.***"
   ]
  },
  {
   "cell_type": "code",
   "execution_count": 1,
   "metadata": {},
   "outputs": [],
   "source": [
    "#YOUR CODE FOR 1.6 HERE"
   ]
  },
  {
   "cell_type": "markdown",
   "metadata": {},
   "source": [
    "YOUR WRITTEN ANSWER TO 1.6 HERE"
   ]
  },
  {
   "cell_type": "markdown",
   "metadata": {},
   "source": [
    "## Part 2: Detecting Differentially Expressed Genes\n",
    "\n",
    "Now we’ll test the gene expression levels to see which ones differ between cancer patients and healthy individuals. We’ll start by testing one individual gene of interest for differential expression, and after that, we’ll extend our analysis to all genes."
   ]
  },
  {
   "cell_type": "markdown",
   "metadata": {},
   "source": [
    "### 2.1\n",
    "\n",
    "**[The paper referenced in the GEO DataSet Record](http://clincancerres.aacrjournals.org/content/17/8/2444) focused on osteoprotegerin. What did the authors of this study conclude about osteoprotegerin?**"
   ]
  },
  {
   "cell_type": "markdown",
   "metadata": {},
   "source": [
    "YOUR WRITTEN ANSWER TO 2.1 HERE"
   ]
  },
  {
   "cell_type": "markdown",
   "metadata": {},
   "source": [
    "### 2.2a\n",
    "\n",
    "**Let’s see if osteoprotegerin (probe ID: 204933_s_at) shows differential expression between our cancer patients and our healthy patients. First, calculate the log fold change in expression between the two groups. You can do this by subtracting the mean of the normal patients’ expression from the mean of the cancer patients’ expression.**"
   ]
  },
  {
   "cell_type": "code",
   "execution_count": null,
   "metadata": {},
   "outputs": [],
   "source": [
    "#YOUR CODE FOR 2.2a HERE"
   ]
  },
  {
   "cell_type": "markdown",
   "metadata": {},
   "source": [
    "### 2.2b\n",
    "\n",
    "**Does expression of this gene increase or decrease in cancer patients? Is this what you would expect based on the findings in the paper?**"
   ]
  },
  {
   "cell_type": "markdown",
   "metadata": {},
   "source": [
    "YOUR WRITTEN ANSWER TO 2.2b HERE"
   ]
  },
  {
   "cell_type": "markdown",
   "metadata": {},
   "source": [
    "### 2.3\n",
    "\n",
    "**Hopefully you found that expression differs between the two groups. But how significant is this difference? Perform a t-test to test whether the two group means differ, and report the $p$-value for this test.**"
   ]
  },
  {
   "cell_type": "code",
   "execution_count": null,
   "metadata": {},
   "outputs": [],
   "source": [
    "#YOUR CODE FOR 2.3 HERE"
   ]
  },
  {
   "cell_type": "markdown",
   "metadata": {},
   "source": [
    "### 2.4a\n",
    "\n",
    "**Now that you’ve computed log fold change in expression and performed the t-test for one gene, repeat this test for every probe in the dataset, saving the results along the way. When you’re finished, report the name of the gene corresponding to the probe with the most significant change in expression between cancer and normal patients (smallest $p$-value).**"
   ]
  },
  {
   "cell_type": "code",
   "execution_count": null,
   "metadata": {},
   "outputs": [],
   "source": [
    "#YOUR CODE FOR 2.4a HERE"
   ]
  },
  {
   "cell_type": "markdown",
   "metadata": {},
   "source": [
    "### 2.4b\n",
    "\n",
    "**Is this gene upregulated or downregulated in cancer patients? Look up this gene on GeneCards.com to determine the gene’s function. Is it believable that this gene would be dysregulated in our cancer patients?**"
   ]
  },
  {
   "cell_type": "code",
   "execution_count": null,
   "metadata": {},
   "outputs": [],
   "source": [
    "#YOUR CODE FOR 2.4b HERE"
   ]
  },
  {
   "cell_type": "markdown",
   "metadata": {},
   "source": [
    "YOUR WRITTEN ANSWER TO 2.4b HERE"
   ]
  },
  {
   "cell_type": "markdown",
   "metadata": {},
   "source": [
    "### 2.5\n",
    "\n",
    "**When we perform many tests and select the one with the most significant result, as we did in part 2.4a, we need to correct for the number of tests performed. Using the Bonferroni multiple test correction, what would be our adjusted $p$-value threshold for significance in the test above? (Please explain how you arrived at this number). Is your top differentially expressed gene still significant, given this adjusted $p$-value threshold?**"
   ]
  },
  {
   "cell_type": "markdown",
   "metadata": {},
   "source": [
    "YOUR WRITTEN ANSWER TO 2.5 HERE"
   ]
  },
  {
   "cell_type": "markdown",
   "metadata": {},
   "source": [
    "### 2.6a\n",
    "\n",
    "**Finally, we’ll visualize our results using what is called a *volcano plot*. (You’ll soon see why it is called this). Create a plot in which each point represents one of the genes you tested. The x-axis will represent the log-fold change of expression, and the y-axis will represent the negative $\\log$($p$-value) of your t-test for that gene.**"
   ]
  },
  {
   "cell_type": "code",
   "execution_count": null,
   "metadata": {},
   "outputs": [],
   "source": [
    "#YOUR CODE FOR 2.6a HERE"
   ]
  },
  {
   "cell_type": "markdown",
   "metadata": {},
   "source": [
    "### 2.6b\n",
    "\n",
    "**Which region(s) of the plot are the regions with the most significant differential expression? Are there any genes that have a high log-fold change but do not have very significant $p$-values? If so, why do you think this might be?**"
   ]
  },
  {
   "cell_type": "markdown",
   "metadata": {},
   "source": [
    "YOUR WRITTEN ANSWER TO 2.6b HERE"
   ]
  },
  {
   "cell_type": "markdown",
   "metadata": {},
   "source": [
    "### Bonus challenge (OPTIONAL)\n",
    "\n",
    "**Modify your volcano plot as follows: for genes that have a log-fold change greater than 2 and whose $p$-value is beneath your adjusted significance threshold, color them blue. For genes with log-fold change less than -2 and whose $p$-value is significant, color them red. What does each of these sets of points indicate?**\n",
    "\n",
    "**(This challenge is truly optional. The reward for completing it will be personal satisfaction and, hopefully, increased knowledge of data visualization techniques. ***Note: The remainder of the assignment is not optional.***"
   ]
  },
  {
   "cell_type": "code",
   "execution_count": 2,
   "metadata": {},
   "outputs": [],
   "source": [
    "#YOUR CODE FOR THE BONUS CHALLENGE HERE (IF YOU CHOOSE TO DO IT)"
   ]
  },
  {
   "cell_type": "markdown",
   "metadata": {},
   "source": [
    "YOUR WRITTEN ANSWER FOR THE BONUS CHALLENGE HERE (IF YOU CHOOSE TO DO IT)"
   ]
  },
  {
   "cell_type": "markdown",
   "metadata": {},
   "source": [
    "## Part 3: Gene Set Enrichment Analysis\n",
    "\n",
    "We will now determine whether the differentially expressed genes belong to any interesting annotated gene sets. We’ll use a Python-based version of the gene set enrichment analysis (GSEA) tool described in class."
   ]
  },
  {
   "cell_type": "markdown",
   "metadata": {},
   "source": [
    "### 3.1 \n",
    "\n",
    "**First, we need to get the list of genes that we are interested in testing. Select the full set of genes whose $p$-value is below the threshold determined in part 2.5. How many genes meet this criterion?**"
   ]
  },
  {
   "cell_type": "code",
   "execution_count": null,
   "metadata": {},
   "outputs": [],
   "source": [
    "#YOUR CODE FOR 3.1 HERE"
   ]
  },
  {
   "cell_type": "markdown",
   "metadata": {},
   "source": [
    "### 3.2 \n",
    "\n",
    "To facilitate running GSEA, we’ve already made a ranked list of the genes that pass the significance threshold. Download the file “gsea_list.rnk” from Canvas. The first column in this file represents the gene name, and the second column shows the log-fold change between cancer and normal patients. Hopefully this file will look similar to what you have as a result of part 2. If it doesn’t, you might want to go back and check your work from part 2 to make sure your results seem reasonable.\n",
    "\n",
    "You’ll also need to download “kegg.gmt” from Canvas. This file contains a list of gene pathway annotations from the KEGG database. If you’re interested in seeing a broader list of gene sets that can be tested, check out [this link](http://software.broadinstitute.org/gsea/downloads.jsp).\n",
    "\n",
    "Now install GSEAPy, a Python-based version of GSEA, using the installation instructions described [here](http://gseapy.readthedocs.io/en/latest/introduction.html#installation).  You'll need to register for a Broad Institute account first. If you don’t already have the `pip` package manager for Python installed, you’ll probably need to [install that first](https://pip.pypa.io/en/stable/installing/).\n",
    "\n",
    "**Put the ranked gene list file (.rnk) and the gene annotation file (.gmt) in the folder where you wish to run your analysis.**"
   ]
  },
  {
   "cell_type": "markdown",
   "metadata": {},
   "source": [
    "### 3.3 \n",
    "\n",
    "**We’ll run an analysis designed for pre-ranked list of genes. The list we gave to you is ranked from most downregulated to most upregulated in cancer patients. Given your understanding of how the GSEA algorithm works, why is it important that this list of genes is pre-ranked?**"
   ]
  },
  {
   "cell_type": "markdown",
   "metadata": {},
   "source": [
    "YOUR WRITTEN ANSWER TO 3.3 HERE"
   ]
  },
  {
   "cell_type": "markdown",
   "metadata": {},
   "source": [
    "### 3.4\n",
    "\n",
    "GSEAPy contains several modules, and their usage is described [here](http://gseapy.readthedocs.io/en/latest/run.html#for-command-line-usage). We are interested in the `prerank` module, not the `enrichr`, `replot`, or `gsea` modules. \n",
    "\n",
    "**Run the `prerank` module of GSEA using the directions outlined at the link above. We recommend that you use the command-line version of the tool, although there is another mode in which the tool can be run within Python. The command-line version works on Windows, Mac, and Linux.**\n",
    "\n",
    "***Note: This command will not work unless you have navigated to the correct folder.***"
   ]
  },
  {
   "cell_type": "markdown",
   "metadata": {},
   "source": [
    "### 3.5\n",
    "\n",
    "**Take a look at the Excel spreadsheet generated by GSEAPy, and answer the following questions:**\n",
    "\n",
    "- **What is the top enriched gene set?**\n",
    "- **Is this gene set upregulated or downregulated in cancer patients?**\n",
    "- **Would you expect this gene set to be differentially expressed in cancer patients? If not, give another possible reason why our analysis may have selected for genes enriched in this pathway.**\n",
    "- **Include a copy of the GSEA graph for this term in your writeup. In your own words, interpret what the graph means in a few sentences.**\n",
    "- **Do any of the other top 10 enriched terms make sense in the context of cancer patients? *Hint: For help interpreting results, see  \"Interpreting GSEA Results\" on [this page](http://software.broadinstitute.org/gsea/doc/GSEAUserGuideFrame.html).***"
   ]
  },
  {
   "cell_type": "markdown",
   "metadata": {},
   "source": [
    "YOUR WRITTEN ANSWER TO 3.5 HERE"
   ]
  },
  {
   "cell_type": "markdown",
   "metadata": {},
   "source": [
    "### 3.6\n",
    "\n",
    "**The analysis you’ve done so far might be considered a T0 to very-early T1 analysis. Suppose you were given a long list of drugs, along with a list genes that are upregulated and downregulated in response to each of those drugs. In a just few sentences, describe how you might plan to incorporate this dataset into a more long-term analysis that reaches into the late T1 and, if successful, perhaps even the T2 stages.**"
   ]
  },
  {
   "cell_type": "markdown",
   "metadata": {},
   "source": [
    "YOUR WRITTEN ANSWER TO 3.6 HERE"
   ]
  }
 ],
 "metadata": {
  "kernelspec": {
   "display_name": "Python 2",
   "language": "python",
   "name": "python2"
  },
  "language_info": {
   "codemirror_mode": {
    "name": "ipython",
    "version": 2
   },
   "file_extension": ".py",
   "mimetype": "text/x-python",
   "name": "python",
   "nbconvert_exporter": "python",
   "pygments_lexer": "ipython2",
   "version": "2.7.15"
  },
  "latex_envs": {
   "bibliofile": "biblio.bib",
   "cite_by": "apalike",
   "current_citInitial": 1,
   "eqLabelWithNumbers": true,
   "eqNumInitial": 0
  }
 },
 "nbformat": 4,
 "nbformat_minor": 2
}
